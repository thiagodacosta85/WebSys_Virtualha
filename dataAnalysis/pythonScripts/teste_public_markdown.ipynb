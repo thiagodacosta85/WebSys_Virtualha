{
 "cells": [
  {
   "cell_type": "markdown",
   "metadata": {},
   "source": [
    "# Título do documento\n",
    "Autor: Thiago da Costa\n",
    "\n",
    "### Provável subtítulo\n",
    "Aqui é provável que seja **escrito** o *subtítulo* de um ***domento*** Markdown\n",
    "\n"
   ]
  },
  {
   "cell_type": "markdown",
   "metadata": {},
   "source": [
    "print(\"Hello world!\")"
   ]
  },
  {
   "cell_type": "markdown",
   "metadata": {},
   "source": []
  }
 ],
 "metadata": {
  "language_info": {
   "name": "python"
  }
 },
 "nbformat": 4,
 "nbformat_minor": 2
}
