{
 "cells": [
  {
   "cell_type": "code",
   "execution_count": null,
   "metadata": {},
   "outputs": [],
   "source": [
    "'''\n",
    "df_distrib_populacional = pd.DataFrame(df_localidades, columns=[\"NOME\", \"POPULACAO\", \"ZONA\"])\n",
    "df_distrib_populacional\n",
    "df_distrib_populacional.plot(x=\"NOME\",\n",
    "                             y=\"POPULACAO\",\n",
    "                             kind = \"bar\",\n",
    "                             ax= None,\n",
    "                             subplots=False,\n",
    "                             sharex=True,\n",
    "                             sharey=True,\n",
    "                             layout=False,\n",
    "                             figsize=(15, 5),\n",
    "                             use_index=True,\n",
    "                             title=\"Populacao por localidade\",\n",
    "                             grid=True,\n",
    "                             legend=True,\n",
    "                             style= False,\n",
    "                             logx=False,\n",
    "                             logy=False,\n",
    "                             loglog=False,\n",
    "                             xlabel= \"Localidades\",\n",
    "                             ylabel= \"Habitantes\",\n",
    "                             fontsize=8,\n",
    "                             colormap=None,\n",
    "                             )\n",
    "'''"
   ]
  },
  {
   "cell_type": "code",
   "execution_count": null,
   "metadata": {},
   "outputs": [],
   "source": []
  },
  {
   "cell_type": "code",
   "execution_count": null,
   "metadata": {},
   "outputs": [],
   "source": [
    "#df_localidades.groupby(\"ZONA\")[\"NOME\"].count().plot(kind='bar')"
   ]
  },
  {
   "cell_type": "code",
   "execution_count": null,
   "metadata": {},
   "outputs": [],
   "source": [
    "''' apenas para sintaxe\n",
    "df_localidades[[\"VAGAS_DISP\", \"TRABALHADORES_EFET\",\"POPULACAO\"]].plot.hist(alpha=0.5)'''"
   ]
  },
  {
   "cell_type": "code",
   "execution_count": null,
   "metadata": {},
   "outputs": [],
   "source": [
    "#sns.barplot(x=\"NOME\", y=\"POPULACAO\", data=df_localidades, hue=\"ZONA\")"
   ]
  },
  {
   "cell_type": "code",
   "execution_count": null,
   "metadata": {},
   "outputs": [],
   "source": [
    "'''df_localidades.groupby([\"ZONA\"]).plot.bar(x=\"NOME\", y=\"POPULACAO\",\n",
    "                        use_index=True,\n",
    "                        figsize=(8, 4),\n",
    "                        title=\"Distribuição Populacional\")'''"
   ]
  },
  {
   "cell_type": "code",
   "execution_count": null,
   "metadata": {},
   "outputs": [],
   "source": [
    "# dispensa a necessidade da criação do dataframe df_atividades\n",
    "#df_localidades.groupby(\"ATIV\")[\"NOME\"].count().plot(kind='bar')"
   ]
  },
  {
   "cell_type": "code",
   "execution_count": null,
   "metadata": {},
   "outputs": [],
   "source": [
    "# plot df_localidades\n",
    "#df_localidades.plot(subplots=True, layout=(5, 3), figsize=(15, 15), kind='bar')"
   ]
  },
  {
   "cell_type": "code",
   "execution_count": null,
   "metadata": {},
   "outputs": [],
   "source": [
    "'''\n",
    "labels, index = np.unique(df_localidades[\"ZONA\"], return_inverse=True)\n",
    "\n",
    "fig, ax = plt.subplots()\n",
    "grafico = ax.scatter(df_localidades['NOME'],\n",
    "                         df_localidades['POPULACAO'],\n",
    "                         marker = 'o',\n",
    "                         c = index,\n",
    "                         alpha = 0.8)\n",
    "ax.legend(grafico.legend_elements()[0], labels)\n",
    "plt.show()\n",
    "'''"
   ]
  }
 ],
 "metadata": {
  "language_info": {
   "name": "python"
  }
 },
 "nbformat": 4,
 "nbformat_minor": 2
}
